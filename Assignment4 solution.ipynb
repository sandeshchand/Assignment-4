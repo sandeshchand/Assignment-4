{
 "cells": [
  {
   "cell_type": "markdown",
   "metadata": {},
   "source": [
    "# Write a Python Program(with class concepts) to find the area of the triangle using the below formula. \n",
    "area = (s*(s-a)*(s-b)*(s-c)) ** 0.5\n",
    "Function to take the length of the sides of triangle from user should be defined in the parent\n",
    "class and function to calculate the area should be defined in subclass. "
   ]
  },
  {
   "cell_type": "code",
   "execution_count": null,
   "metadata": {},
   "outputs": [],
   "source": [
    "class Polygon():\n",
    "    def __init__(self,length_a,length_b,length_c):\n",
    "        self.length_a= (length_a)\n",
    "        self.length_b= (length_b)\n",
    "        self.length_c= (length_c)\n",
    "        \n",
    "    \n",
    "class Triangle(Polygon):\n",
    "    \n",
    "    def __init__(self,*args):\n",
    "        \n",
    "        super(Triangle,self).__init__(*args)\n",
    "        \n",
    "        \n",
    "    def area(self):\n",
    "        s= (self.length_a+self.length_b+self.length_c)/2\n",
    "        area=(s*(s-self.length_a)*(s-self.length_b)*(s-self.length_c)) ** 0.5\n",
    "        \n",
    "        return (area)\n",
    "    \n",
    "length_a=float(input(\"a=\"))\n",
    "length_b=float(input(\"b=\"))\n",
    "length_c=float(input(\"c=\"))\n",
    "\n",
    "triangle=Triangle(length_a,length_b,length_c)\n",
    "print(\"Area of the triangle is {}\".format(triangle.area()))\n",
    " \n",
    "\n",
    " \n",
    "        "
   ]
  },
  {
   "cell_type": "markdown",
   "metadata": {},
   "source": [
    "# Write a function filter_long_words() that takes a list of words and an integer n and returns the list of words that are longer than n."
   ]
  },
  {
   "cell_type": "code",
   "execution_count": null,
   "metadata": {},
   "outputs": [],
   "source": [
    "\n",
    "def filter_long_words(word,number):\n",
    "    word_list=[]\n",
    "    for i in range(len(word)):\n",
    "        if (len(word[i])>number):\n",
    "            word_list.append(word[i])\n",
    "    #print(word_list)    \n",
    "    return(word_list)\n",
    "        \n",
    "    \n",
    "    \n",
    "sentence=input(\"Please input the sentences:\")\n",
    "word=sentence.split(\" \")\n",
    "number =int(input(\"Please input the number:\")) \n",
    "\n",
    "\n",
    "filter_long_words(word,number)\n",
    "        "
   ]
  },
  {
   "cell_type": "markdown",
   "metadata": {},
   "source": [
    "# Write a Python program using function concept that maps list of words into a list of integers representing the lengths of the corresponding words."
   ]
  },
  {
   "cell_type": "code",
   "execution_count": 11,
   "metadata": {},
   "outputs": [
    {
     "name": "stdout",
     "output_type": "stream",
     "text": [
      "Please input the words:ab,cde,ghi\n",
      "list of word sent to function:['ab', 'cde', 'ghi']\n",
      "Length of the words: [2, 3, 3]\n"
     ]
    }
   ],
   "source": [
    "def wordlength(word):\n",
    "    numberlist=[]\n",
    "    for i in ((word)):\n",
    "        numberlist.append(i) \n",
    "    return list(map(len,numberlist))\n",
    "    \n",
    "\n",
    "sentence=(input(\"Please input the words:\"))\n",
    "word=sentence.split(\",\")\n",
    "\n",
    "print(\"list of word sent to function:{}\".format(word))\n",
    "finallist=wordlength(word) \n",
    "print(\"Length of the words: {}\".format(finallist))"
   ]
  },
  {
   "cell_type": "markdown",
   "metadata": {},
   "source": [
    "# Write a Python function which takes a character (i.e. a string of length 1) and returns True if it is a vowel, False otherwise."
   ]
  },
  {
   "cell_type": "code",
   "execution_count": 61,
   "metadata": {},
   "outputs": [
    {
     "name": "stdout",
     "output_type": "stream",
     "text": [
      "Please enter the character that you want:\n",
      "Input character : q\n",
      "Result:False\n"
     ]
    }
   ],
   "source": [
    "def character(char):\n",
    "    vowel_list=['a','e','i','o','u']\n",
    "    if (len(char)==1):\n",
    "        if ( char in vowel_list):\n",
    "            return True\n",
    "        else:\n",
    "            return False\n",
    "    else:\n",
    "        print(\"The lengnth of character is large.Please try again !!\")\n",
    "    \n",
    "\n",
    "print(\"Please enter the character that you want:\")\n",
    "char=input('Input character : ')\n",
    "result=character(char)\n",
    "print('Result:{}'.format(result))\n"
   ]
  }
 ],
 "metadata": {
  "kernelspec": {
   "display_name": "Python 3",
   "language": "python",
   "name": "python3"
  },
  "language_info": {
   "codemirror_mode": {
    "name": "ipython",
    "version": 3
   },
   "file_extension": ".py",
   "mimetype": "text/x-python",
   "name": "python",
   "nbconvert_exporter": "python",
   "pygments_lexer": "ipython3",
   "version": "3.6.8"
  }
 },
 "nbformat": 4,
 "nbformat_minor": 2
}
